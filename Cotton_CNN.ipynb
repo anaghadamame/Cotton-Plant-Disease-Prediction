{
  "nbformat": 4,
  "nbformat_minor": 0,
  "metadata": {
    "accelerator": "GPU",
    "colab": {
      "name": "Cotton_CNN.ipynb",
      "provenance": []
    },
    "kernelspec": {
      "display_name": "Python 3",
      "name": "python3"
    }
  },
  "cells": [
    {
      "cell_type": "code",
      "metadata": {
        "id": "I4E7dQzwB_s0"
      },
      "source": [
        "import zipfile\n",
        "with zipfile.ZipFile(\"/content/drive/MyDrive/data-20201123T044535Z-001.zip\",'r') as f:\n",
        "  f.extractall(' ')"
      ],
      "execution_count": null,
      "outputs": []
    },
    {
      "cell_type": "code",
      "metadata": {
        "id": "U1n_fcDw1g3e"
      },
      "source": [
        "from keras.preprocessing.image import ImageDataGenerator"
      ],
      "execution_count": null,
      "outputs": []
    },
    {
      "cell_type": "code",
      "metadata": {
        "colab": {
          "base_uri": "https://localhost:8080/"
        },
        "id": "r43vbpzp3BFJ",
        "outputId": "64d68b3a-f106-4cbd-e7c8-bbeb424b5a0d"
      },
      "source": [
        "train_path=\"/content/ /data/train\"\n",
        "# this is the augmentation configuration we will use for training\n",
        "train_datagen=ImageDataGenerator(rescale=1./255,rotation_range=40,width_shift_range=0.5,height_shift_range=0.5,horizontal_flip=True,\n",
        "                        shear_range=0.2,fill_mode='nearest',zoom_range=0.2)\n",
        "\n",
        "train_data=train_datagen.flow_from_directory(train_path,target_size=(150,150),batch_size=30,class_mode='binary')\n"
      ],
      "execution_count": null,
      "outputs": [
        {
          "output_type": "stream",
          "text": [
            "Found 1951 images belonging to 4 classes.\n"
          ],
          "name": "stdout"
        }
      ]
    },
    {
      "cell_type": "code",
      "metadata": {
        "colab": {
          "base_uri": "https://localhost:8080/"
        },
        "id": "S-Nkd6Yq70O5",
        "outputId": "c0617875-541e-4ff3-ff57-fa778473337f"
      },
      "source": [
        "#Types of classes\n",
        "train_data.class_indices"
      ],
      "execution_count": null,
      "outputs": [
        {
          "output_type": "execute_result",
          "data": {
            "text/plain": [
              "{'diseased cotton leaf': 0,\n",
              " 'diseased cotton plant': 1,\n",
              " 'fresh cotton leaf': 2,\n",
              " 'fresh cotton plant': 3}"
            ]
          },
          "metadata": {
            "tags": []
          },
          "execution_count": 4
        }
      ]
    },
    {
      "cell_type": "code",
      "metadata": {
        "colab": {
          "base_uri": "https://localhost:8080/"
        },
        "id": "7IUX-UMD8LD8",
        "outputId": "8dee755d-18ad-44fc-b737-114cc18fde7a"
      },
      "source": [
        "test_path=\"/content/ /data/val\"\n",
        "test_datagen=ImageDataGenerator(rescale=1./255)\n",
        "test_data=test_datagen.flow_from_directory(test_path,target_size=(150,150),batch_size=30,class_mode='binary')"
      ],
      "execution_count": null,
      "outputs": [
        {
          "output_type": "stream",
          "text": [
            "Found 324 images belonging to 4 classes.\n"
          ],
          "name": "stdout"
        }
      ]
    },
    {
      "cell_type": "code",
      "metadata": {
        "colab": {
          "base_uri": "https://localhost:8080/"
        },
        "id": "t1Phu-7z_HKJ",
        "outputId": "77300f2a-fd53-4e58-e134-fa6b99637085"
      },
      "source": [
        "train_data.image_shape"
      ],
      "execution_count": null,
      "outputs": [
        {
          "output_type": "execute_result",
          "data": {
            "text/plain": [
              "(150, 150, 3)"
            ]
          },
          "metadata": {
            "tags": []
          },
          "execution_count": 6
        }
      ]
    },
    {
      "cell_type": "code",
      "metadata": {
        "id": "Cab4Ha3t9f0K"
      },
      "source": [
        "from tensorflow.keras.models import Sequential\n",
        "from tensorflow.keras.layers import Dense, Dropout, Conv2D, MaxPooling2D, Flatten"
      ],
      "execution_count": null,
      "outputs": []
    },
    {
      "cell_type": "code",
      "metadata": {
        "id": "jj_kiOtal0HI"
      },
      "source": [
        "model = Sequential()\n",
        "model.add(Conv2D(16,(4,4),activation='relu',input_shape=(150,150,3)))\n",
        "model.add(MaxPooling2D())\n",
        "model.add(Conv2D(16,(4,4),activation='relu'))\n",
        "model.add(MaxPooling2D())\n",
        "model.add(Flatten())\n",
        "model.add(Dense(16,activation='relu'))\n",
        "model.add(Dense(4,activation='sigmoid'))"
      ],
      "execution_count": null,
      "outputs": []
    },
    {
      "cell_type": "code",
      "metadata": {
        "id": "JWJfW7kh_zx2"
      },
      "source": [
        "model.compile(loss='sparse_categorical_crossentropy',metrics=['accuracy'])"
      ],
      "execution_count": null,
      "outputs": []
    },
    {
      "cell_type": "code",
      "metadata": {
        "colab": {
          "base_uri": "https://localhost:8080/"
        },
        "id": "yOTwYzSuMAF6",
        "outputId": "6dcedb8c-022c-4700-9ae7-03f12fe94a75"
      },
      "source": [
        "model.fit(train_data,epochs=80,verbose=1,validation_data= test_data)              "
      ],
      "execution_count": null,
      "outputs": [
        {
          "output_type": "stream",
          "text": [
            "Epoch 1/80\n",
            "66/66 [==============================] - 25s 385ms/step - loss: 1.3179 - accuracy: 0.3921 - val_loss: 1.2831 - val_accuracy: 0.3117\n",
            "Epoch 2/80\n",
            "66/66 [==============================] - 25s 385ms/step - loss: 1.2031 - accuracy: 0.4275 - val_loss: 1.1585 - val_accuracy: 0.4321\n",
            "Epoch 3/80\n",
            "66/66 [==============================] - 26s 387ms/step - loss: 1.1766 - accuracy: 0.4346 - val_loss: 1.1340 - val_accuracy: 0.3364\n",
            "Epoch 4/80\n",
            "66/66 [==============================] - 25s 384ms/step - loss: 1.1284 - accuracy: 0.4500 - val_loss: 1.0688 - val_accuracy: 0.4506\n",
            "Epoch 5/80\n",
            "66/66 [==============================] - 25s 379ms/step - loss: 1.1371 - accuracy: 0.4690 - val_loss: 1.0313 - val_accuracy: 0.5340\n",
            "Epoch 6/80\n",
            "66/66 [==============================] - 25s 377ms/step - loss: 1.1040 - accuracy: 0.4818 - val_loss: 1.2007 - val_accuracy: 0.3457\n",
            "Epoch 7/80\n",
            "66/66 [==============================] - 25s 374ms/step - loss: 1.0810 - accuracy: 0.5295 - val_loss: 1.1889 - val_accuracy: 0.4722\n",
            "Epoch 8/80\n",
            "66/66 [==============================] - 25s 373ms/step - loss: 1.0602 - accuracy: 0.5274 - val_loss: 1.3660 - val_accuracy: 0.4815\n",
            "Epoch 9/80\n",
            "66/66 [==============================] - 25s 375ms/step - loss: 1.0285 - accuracy: 0.5464 - val_loss: 1.0761 - val_accuracy: 0.5031\n",
            "Epoch 10/80\n",
            "66/66 [==============================] - 25s 373ms/step - loss: 1.0142 - accuracy: 0.5725 - val_loss: 1.2012 - val_accuracy: 0.4907\n",
            "Epoch 11/80\n",
            "66/66 [==============================] - 25s 377ms/step - loss: 1.0073 - accuracy: 0.5853 - val_loss: 1.2394 - val_accuracy: 0.4630\n",
            "Epoch 12/80\n",
            "66/66 [==============================] - 25s 379ms/step - loss: 0.9832 - accuracy: 0.5889 - val_loss: 0.8810 - val_accuracy: 0.6265\n",
            "Epoch 13/80\n",
            "66/66 [==============================] - 25s 381ms/step - loss: 0.9835 - accuracy: 0.6002 - val_loss: 0.8500 - val_accuracy: 0.6574\n",
            "Epoch 14/80\n",
            "66/66 [==============================] - 25s 380ms/step - loss: 0.9157 - accuracy: 0.6217 - val_loss: 3.1120 - val_accuracy: 0.3735\n",
            "Epoch 15/80\n",
            "66/66 [==============================] - 25s 382ms/step - loss: 0.9259 - accuracy: 0.6284 - val_loss: 0.8991 - val_accuracy: 0.6605\n",
            "Epoch 16/80\n",
            "66/66 [==============================] - 25s 384ms/step - loss: 0.8978 - accuracy: 0.6386 - val_loss: 0.9703 - val_accuracy: 0.6173\n",
            "Epoch 17/80\n",
            "66/66 [==============================] - 25s 385ms/step - loss: 0.8738 - accuracy: 0.6289 - val_loss: 0.7701 - val_accuracy: 0.6852\n",
            "Epoch 18/80\n",
            "66/66 [==============================] - 26s 388ms/step - loss: 0.8852 - accuracy: 0.6299 - val_loss: 0.8454 - val_accuracy: 0.6512\n",
            "Epoch 19/80\n",
            "66/66 [==============================] - 26s 387ms/step - loss: 0.8683 - accuracy: 0.6274 - val_loss: 0.8245 - val_accuracy: 0.6481\n",
            "Epoch 20/80\n",
            "66/66 [==============================] - 25s 381ms/step - loss: 0.8818 - accuracy: 0.6269 - val_loss: 0.7444 - val_accuracy: 0.7191\n",
            "Epoch 21/80\n",
            "66/66 [==============================] - 25s 379ms/step - loss: 0.8543 - accuracy: 0.6566 - val_loss: 1.0142 - val_accuracy: 0.6142\n",
            "Epoch 22/80\n",
            "66/66 [==============================] - 25s 377ms/step - loss: 0.9074 - accuracy: 0.6192 - val_loss: 0.7828 - val_accuracy: 0.7037\n",
            "Epoch 23/80\n",
            "66/66 [==============================] - 25s 384ms/step - loss: 0.8344 - accuracy: 0.6694 - val_loss: 0.6941 - val_accuracy: 0.7315\n",
            "Epoch 24/80\n",
            "66/66 [==============================] - 25s 381ms/step - loss: 0.8078 - accuracy: 0.6766 - val_loss: 0.6437 - val_accuracy: 0.7716\n",
            "Epoch 25/80\n",
            "66/66 [==============================] - 26s 388ms/step - loss: 0.8012 - accuracy: 0.6935 - val_loss: 1.0604 - val_accuracy: 0.5617\n",
            "Epoch 26/80\n",
            "66/66 [==============================] - 25s 384ms/step - loss: 0.8181 - accuracy: 0.6622 - val_loss: 0.7030 - val_accuracy: 0.7438\n",
            "Epoch 27/80\n",
            "66/66 [==============================] - 26s 388ms/step - loss: 0.7800 - accuracy: 0.7017 - val_loss: 0.5679 - val_accuracy: 0.7531\n",
            "Epoch 28/80\n",
            "66/66 [==============================] - 26s 387ms/step - loss: 0.7693 - accuracy: 0.7053 - val_loss: 0.7050 - val_accuracy: 0.7315\n",
            "Epoch 29/80\n",
            "66/66 [==============================] - 26s 387ms/step - loss: 0.8022 - accuracy: 0.6797 - val_loss: 0.6034 - val_accuracy: 0.7685\n",
            "Epoch 30/80\n",
            "66/66 [==============================] - 26s 388ms/step - loss: 0.7731 - accuracy: 0.6950 - val_loss: 0.7109 - val_accuracy: 0.6914\n",
            "Epoch 31/80\n",
            "66/66 [==============================] - 26s 392ms/step - loss: 0.7698 - accuracy: 0.6756 - val_loss: 0.6928 - val_accuracy: 0.7253\n",
            "Epoch 32/80\n",
            "66/66 [==============================] - 26s 388ms/step - loss: 0.7362 - accuracy: 0.7078 - val_loss: 1.0130 - val_accuracy: 0.6235\n",
            "Epoch 33/80\n",
            "66/66 [==============================] - 26s 391ms/step - loss: 0.7057 - accuracy: 0.7063 - val_loss: 0.5213 - val_accuracy: 0.7840\n",
            "Epoch 34/80\n",
            "66/66 [==============================] - 25s 380ms/step - loss: 0.7571 - accuracy: 0.7002 - val_loss: 0.5638 - val_accuracy: 0.7716\n",
            "Epoch 35/80\n",
            "66/66 [==============================] - 25s 381ms/step - loss: 0.7015 - accuracy: 0.7140 - val_loss: 1.2821 - val_accuracy: 0.5772\n",
            "Epoch 36/80\n",
            "66/66 [==============================] - 25s 380ms/step - loss: 0.7041 - accuracy: 0.7166 - val_loss: 0.7320 - val_accuracy: 0.7130\n",
            "Epoch 37/80\n",
            "66/66 [==============================] - 26s 387ms/step - loss: 0.7098 - accuracy: 0.7094 - val_loss: 0.9089 - val_accuracy: 0.6481\n",
            "Epoch 38/80\n",
            "66/66 [==============================] - 25s 386ms/step - loss: 0.6762 - accuracy: 0.7253 - val_loss: 0.5067 - val_accuracy: 0.7932\n",
            "Epoch 39/80\n",
            "66/66 [==============================] - 26s 387ms/step - loss: 0.6793 - accuracy: 0.7304 - val_loss: 0.5696 - val_accuracy: 0.7747\n",
            "Epoch 40/80\n",
            "66/66 [==============================] - 25s 386ms/step - loss: 0.6786 - accuracy: 0.7360 - val_loss: 0.6345 - val_accuracy: 0.7068\n",
            "Epoch 41/80\n",
            "66/66 [==============================] - 25s 386ms/step - loss: 0.6365 - accuracy: 0.7504 - val_loss: 0.5476 - val_accuracy: 0.7994\n",
            "Epoch 42/80\n",
            "66/66 [==============================] - 25s 384ms/step - loss: 0.6524 - accuracy: 0.7401 - val_loss: 0.6144 - val_accuracy: 0.7778\n",
            "Epoch 43/80\n",
            "66/66 [==============================] - 25s 384ms/step - loss: 0.6697 - accuracy: 0.7386 - val_loss: 0.8193 - val_accuracy: 0.6821\n",
            "Epoch 44/80\n",
            "66/66 [==============================] - 25s 383ms/step - loss: 0.6273 - accuracy: 0.7504 - val_loss: 0.6436 - val_accuracy: 0.7531\n",
            "Epoch 45/80\n",
            "66/66 [==============================] - 25s 384ms/step - loss: 0.6303 - accuracy: 0.7442 - val_loss: 0.9911 - val_accuracy: 0.6605\n",
            "Epoch 46/80\n",
            "66/66 [==============================] - 25s 385ms/step - loss: 0.6463 - accuracy: 0.7535 - val_loss: 0.4542 - val_accuracy: 0.8241\n",
            "Epoch 47/80\n",
            "66/66 [==============================] - 25s 384ms/step - loss: 0.6108 - accuracy: 0.7458 - val_loss: 0.7025 - val_accuracy: 0.7099\n",
            "Epoch 48/80\n",
            "66/66 [==============================] - 25s 385ms/step - loss: 0.6391 - accuracy: 0.7488 - val_loss: 0.4421 - val_accuracy: 0.8426\n",
            "Epoch 49/80\n",
            "66/66 [==============================] - 25s 382ms/step - loss: 0.6013 - accuracy: 0.7540 - val_loss: 0.4035 - val_accuracy: 0.8735\n",
            "Epoch 50/80\n",
            "66/66 [==============================] - 25s 385ms/step - loss: 0.6124 - accuracy: 0.7601 - val_loss: 0.3888 - val_accuracy: 0.8519\n",
            "Epoch 51/80\n",
            "66/66 [==============================] - 26s 388ms/step - loss: 0.5835 - accuracy: 0.7642 - val_loss: 0.4728 - val_accuracy: 0.8086\n",
            "Epoch 52/80\n",
            "66/66 [==============================] - 25s 384ms/step - loss: 0.5926 - accuracy: 0.7642 - val_loss: 0.4563 - val_accuracy: 0.8395\n",
            "Epoch 53/80\n",
            "66/66 [==============================] - 25s 385ms/step - loss: 0.5812 - accuracy: 0.7729 - val_loss: 0.4136 - val_accuracy: 0.8611\n",
            "Epoch 54/80\n",
            "66/66 [==============================] - 25s 384ms/step - loss: 0.5618 - accuracy: 0.7801 - val_loss: 0.3966 - val_accuracy: 0.8395\n",
            "Epoch 55/80\n",
            "66/66 [==============================] - 25s 383ms/step - loss: 0.5671 - accuracy: 0.7873 - val_loss: 0.5265 - val_accuracy: 0.7932\n",
            "Epoch 56/80\n",
            "66/66 [==============================] - 25s 382ms/step - loss: 0.5586 - accuracy: 0.7878 - val_loss: 0.6151 - val_accuracy: 0.7284\n",
            "Epoch 57/80\n",
            "66/66 [==============================] - 25s 385ms/step - loss: 0.5543 - accuracy: 0.7842 - val_loss: 0.7495 - val_accuracy: 0.7469\n",
            "Epoch 58/80\n",
            "66/66 [==============================] - 26s 389ms/step - loss: 0.5591 - accuracy: 0.7822 - val_loss: 0.4179 - val_accuracy: 0.8302\n",
            "Epoch 59/80\n",
            "66/66 [==============================] - 26s 387ms/step - loss: 0.5800 - accuracy: 0.7668 - val_loss: 0.5678 - val_accuracy: 0.7901\n",
            "Epoch 60/80\n",
            "66/66 [==============================] - 25s 385ms/step - loss: 0.5482 - accuracy: 0.7837 - val_loss: 0.4261 - val_accuracy: 0.8302\n",
            "Epoch 61/80\n",
            "66/66 [==============================] - 27s 408ms/step - loss: 0.5405 - accuracy: 0.7904 - val_loss: 0.7122 - val_accuracy: 0.7191\n",
            "Epoch 62/80\n",
            "66/66 [==============================] - 26s 387ms/step - loss: 0.5494 - accuracy: 0.7817 - val_loss: 0.5720 - val_accuracy: 0.7809\n",
            "Epoch 63/80\n",
            "66/66 [==============================] - 26s 387ms/step - loss: 0.5486 - accuracy: 0.8011 - val_loss: 0.4314 - val_accuracy: 0.8333\n",
            "Epoch 64/80\n",
            "66/66 [==============================] - 26s 389ms/step - loss: 0.5395 - accuracy: 0.7888 - val_loss: 0.8166 - val_accuracy: 0.6698\n",
            "Epoch 65/80\n",
            "66/66 [==============================] - 26s 390ms/step - loss: 0.5234 - accuracy: 0.8001 - val_loss: 0.4995 - val_accuracy: 0.8302\n",
            "Epoch 66/80\n",
            "66/66 [==============================] - 26s 391ms/step - loss: 0.5278 - accuracy: 0.7960 - val_loss: 0.3833 - val_accuracy: 0.8519\n",
            "Epoch 67/80\n",
            "66/66 [==============================] - 26s 390ms/step - loss: 0.4852 - accuracy: 0.8160 - val_loss: 0.3792 - val_accuracy: 0.8611\n",
            "Epoch 68/80\n",
            "66/66 [==============================] - 26s 392ms/step - loss: 0.5461 - accuracy: 0.7940 - val_loss: 0.3910 - val_accuracy: 0.8457\n",
            "Epoch 69/80\n",
            "66/66 [==============================] - 26s 388ms/step - loss: 0.5389 - accuracy: 0.7955 - val_loss: 0.5731 - val_accuracy: 0.7593\n",
            "Epoch 70/80\n",
            "66/66 [==============================] - 26s 392ms/step - loss: 0.5162 - accuracy: 0.8042 - val_loss: 0.4855 - val_accuracy: 0.7932\n",
            "Epoch 71/80\n",
            "66/66 [==============================] - 26s 393ms/step - loss: 0.5031 - accuracy: 0.8037 - val_loss: 0.6182 - val_accuracy: 0.7407\n",
            "Epoch 72/80\n",
            "66/66 [==============================] - 26s 390ms/step - loss: 0.5046 - accuracy: 0.8063 - val_loss: 0.4770 - val_accuracy: 0.8056\n",
            "Epoch 73/80\n",
            "66/66 [==============================] - 26s 392ms/step - loss: 0.5003 - accuracy: 0.8160 - val_loss: 1.6174 - val_accuracy: 0.6204\n",
            "Epoch 74/80\n",
            "66/66 [==============================] - 26s 394ms/step - loss: 0.5521 - accuracy: 0.8016 - val_loss: 0.4203 - val_accuracy: 0.8272\n",
            "Epoch 75/80\n",
            "66/66 [==============================] - 26s 390ms/step - loss: 0.4973 - accuracy: 0.8104 - val_loss: 0.3612 - val_accuracy: 0.8580\n",
            "Epoch 76/80\n",
            "66/66 [==============================] - 26s 393ms/step - loss: 0.5057 - accuracy: 0.8042 - val_loss: 0.2972 - val_accuracy: 0.8858\n",
            "Epoch 77/80\n",
            "66/66 [==============================] - 26s 396ms/step - loss: 0.4974 - accuracy: 0.8170 - val_loss: 0.6202 - val_accuracy: 0.7346\n",
            "Epoch 78/80\n",
            "66/66 [==============================] - 26s 391ms/step - loss: 0.5032 - accuracy: 0.8083 - val_loss: 0.4183 - val_accuracy: 0.8549\n",
            "Epoch 79/80\n",
            "66/66 [==============================] - 26s 388ms/step - loss: 0.5004 - accuracy: 0.8093 - val_loss: 0.3044 - val_accuracy: 0.8611\n",
            "Epoch 80/80\n",
            "66/66 [==============================] - 26s 389ms/step - loss: 0.4702 - accuracy: 0.8119 - val_loss: 0.3014 - val_accuracy: 0.8981\n"
          ],
          "name": "stdout"
        },
        {
          "output_type": "execute_result",
          "data": {
            "text/plain": [
              "<tensorflow.python.keras.callbacks.History at 0x7fd014fd16d8>"
            ]
          },
          "metadata": {
            "tags": []
          },
          "execution_count": 10
        }
      ]
    },
    {
      "cell_type": "code",
      "metadata": {
        "id": "AChX_ivhhR7d"
      },
      "source": [
        ""
      ],
      "execution_count": null,
      "outputs": []
    }
  ]
}